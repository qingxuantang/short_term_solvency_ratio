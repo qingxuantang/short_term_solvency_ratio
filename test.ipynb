{
 "cells": [
  {
   "cell_type": "code",
   "execution_count": 9,
   "metadata": {},
   "outputs": [
    {
     "name": "stdout",
     "output_type": "stream",
     "text": [
      "The price change for 603198.SS between today and one year ago is 0.3625482150669186\n"
     ]
    }
   ],
   "source": [
    "import yfinance as yf\n",
    "from datetime import datetime, timedelta\n",
    "\n",
    "def getPriceChangeRatio(stock_ticker,day_count=365):\n",
    "    # Define the end date as today\n",
    "    end_date = datetime.today()\n",
    "    # Define the start date as one year from the end date\n",
    "    start_date = end_date - timedelta(days=day_count)\n",
    "    # Format dates\n",
    "    start_date_str = start_date.strftime(\"%Y-%m-%d\")\n",
    "    end_date_str = end_date.strftime(\"%Y-%m-%d\")\n",
    "    # Fetch the historical data\n",
    "    stock_data = yf.Ticker(stock_ticker)\n",
    "    history = stock_data.history(period='1d', start=start_date_str, end=end_date_str)\n",
    "    # Get the price one year ago and the price today\n",
    "    price_one_year_ago = history['Close'].iloc[0]\n",
    "    price_today = history['Close'].iloc[-1]\n",
    "    # Calculate the price change\n",
    "    price_change = (price_today - price_one_year_ago) / price_one_year_ago\n",
    "\n",
    "    return price_change\n",
    "\n",
    "stock_ticker = \"603198.SS\" # Replace this with the ticker of the stock you want\n",
    "price_change = getPriceChangeRatio(stock_ticker)\n",
    "\n",
    "print(f\"The price change for {stock_ticker} between today and one year ago is {price_change}\")\n"
   ]
  },
  {
   "cell_type": "code",
   "execution_count": 13,
   "metadata": {},
   "outputs": [
    {
     "data": {
      "text/plain": [
       "'.SZ'"
      ]
     },
     "execution_count": 13,
     "metadata": {},
     "output_type": "execute_result"
    }
   ],
   "source": [
    "from short_term_solvency_ratio import utils\n",
    "st_yf = utils.listingSuffixForParsing(exchange=None,symbol='000001')[1]\n",
    "st_yf"
   ]
  },
  {
   "cell_type": "code",
   "execution_count": null,
   "metadata": {},
   "outputs": [],
   "source": [
    "broker_picked_stock_df = broker_picked_stock_df[(broker_picked_stock_df['price_change_ratio'] >= -0.05) & (broker_picked_stock_df['price_change_ratio'] <= 0.05)]\n"
   ]
  }
 ],
 "metadata": {
  "kernelspec": {
   "display_name": "qtapp",
   "language": "python",
   "name": "python3"
  },
  "language_info": {
   "codemirror_mode": {
    "name": "ipython",
    "version": 3
   },
   "file_extension": ".py",
   "mimetype": "text/x-python",
   "name": "python",
   "nbconvert_exporter": "python",
   "pygments_lexer": "ipython3",
   "version": "3.9.16"
  },
  "orig_nbformat": 4
 },
 "nbformat": 4,
 "nbformat_minor": 2
}
